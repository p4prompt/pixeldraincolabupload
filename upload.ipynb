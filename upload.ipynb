import os
import subprocess

# Define the folder containing the files and the API endpoint
folder_path = "/content/Moviez"  # Replace with the path to your folder in Colab
api_url = "https://pixeldrain.com/api/file/"
auth_token = "4323423335"  # Your token

# Ensure the folder exists
if not os.path.exists(folder_path):
    print(f"The folder {folder_path} does not exist.")
else:
    # Iterate over all files in the folder
    for file_name in os.listdir(folder_path):
        file_path = os.path.join(folder_path, file_name)

        # Check if it's a file
        if os.path.isfile(file_path):
            try:
                # Use curl command to upload the file
                result = subprocess.run(
                    [
                        "curl",
                        "-T", file_path,
                        "-u", f":{auth_token}",
                        api_url
                    ],
                    stdout=subprocess.PIPE,
                    stderr=subprocess.PIPE,
                    text=True
                )

                # Print response for the file
                print(f"Uploaded {file_name}: {result.stdout.strip()}")

            except Exception as e:
                print(f"Error uploading {file_name}: {e}")
